{
 "cells": [
  {
   "cell_type": "markdown",
   "metadata": {},
   "source": [
    "## Time formats\n",
    "\n",
    "We are going to be talking about time a LOT in the coming year. Not what it is (because that might take awhile) but how we store it and use it in our data analysis. \n",
    "\n",
    "The datetime module is a particularly useful way of manipulating dates and time in Python. Let's import the module and start exploring! "
   ]
  },
  {
   "cell_type": "code",
   "execution_count": 2,
   "metadata": {},
   "outputs": [],
   "source": [
    "import datetime as dt"
   ]
  },
  {
   "cell_type": "markdown",
   "metadata": {},
   "source": [
    "```.datetime``` is a class within the module ```datetime``` (frustrating I know). It has useful functions like ```dt.datetime.now()``` that give you the date and time right at this moment. Run the function below to see an example of one way in which time is stored by the module."
   ]
  },
  {
   "cell_type": "code",
   "execution_count": null,
   "metadata": {},
   "outputs": [],
   "source": [
    "dt.datetime.now()"
   ]
  },
  {
   "cell_type": "markdown",
   "metadata": {},
   "source": [
    "What do each of the numbers correspond to?\n",
    "\n",
    "*Hint: try printing the output of the function*"
   ]
  },
  {
   "cell_type": "code",
   "execution_count": 31,
   "metadata": {},
   "outputs": [
    {
     "name": "stdout",
     "output_type": "stream",
     "text": [
      "2019-10-10 10:33:51.822407\n"
     ]
    }
   ],
   "source": [
    "print(dt.datetime.now())"
   ]
  },
  {
   "cell_type": "markdown",
   "metadata": {},
   "source": [
    "Save your birthday in the datetime format"
   ]
  },
  {
   "cell_type": "code",
   "execution_count": 37,
   "metadata": {},
   "outputs": [],
   "source": [
    "bday = dt.datetime(1996,1,28)"
   ]
  },
  {
   "cell_type": "markdown",
   "metadata": {},
   "source": [
    "Now, calculate how many days it's going to be before you can celebrate your next birthday. Do this by hand but feel free to use Jupyter to make calculations."
   ]
  },
  {
   "cell_type": "code",
   "execution_count": null,
   "metadata": {},
   "outputs": [],
   "source": []
  },
  {
   "cell_type": "markdown",
   "metadata": {},
   "source": [
    "How about the numbers of days since you were born? \n",
    "\n",
    "It get's complicated right! You have figure out which years were leap years, make sure you're only counting only 29 days for February... That's why the datetime module is useful."
   ]
  },
  {
   "cell_type": "markdown",
   "metadata": {},
   "source": [
    "Let's use datetime module to answer the question instead. All you have to do is subtract the two dates of interest."
   ]
  },
  {
   "cell_type": "code",
   "execution_count": 71,
   "metadata": {},
   "outputs": [
    {
     "data": {
      "text/plain": [
       "datetime.timedelta(days=8656, seconds=55123, microseconds=656685)"
      ]
     },
     "execution_count": 71,
     "metadata": {},
     "output_type": "execute_result"
    }
   ],
   "source": [
    "t = dt.datetime.now() - bday\n",
    "t"
   ]
  },
  {
   "cell_type": "markdown",
   "metadata": {},
   "source": [
    "The module saves time in a new format that is relative to some fixed date (i.e your birthday) using ```datetime.timedelta()```. Time is divided into different attributes (days, hours, seconds etc.) that you can pull out individually by typing in ```datetime.timedelta().days``` for example. \n",
    "\n",
    "Let's be a little more precise about number of days we just calculated. Write a function to convert all the attributes to number of days. Here are some helpful conversions to help you with the math.\n",
    "\n",
    "|Helpful conversions|\n",
    "| :----: |\n",
    "|1 second = $10^{6}$ microseconds|\n",
    "|1 minute = 60 seconds|\n",
    "|1 hour = 60 minutes|\n",
    "|1 day = 24 hours|\n",
    "|1 week = 7 days|\n",
    "\n",
    "Map out how you're going to do this and talk it through with your partners before you start coding.  "
   ]
  },
  {
   "cell_type": "code",
   "execution_count": 51,
   "metadata": {},
   "outputs": [],
   "source": [
    "#####\n",
    "\n",
    "#map out your function here\n",
    "\n",
    "#####\n",
    "\n",
    "\n",
    "\n",
    "#function (put in lots of comments so somebody just reading \n",
    "#the code will understand what it's doing!)\n",
    "\n",
    "\n",
    "\n",
    "####\n",
    "\n",
    "# It's always important to test your functions before you can start applying them. \n",
    "# Use this function to figure out how many days it'll be till your next birthday and \n",
    "# compare your results to the calculation you did by hand.\n",
    "\n",
    "####"
   ]
  },
  {
   "cell_type": "markdown",
   "metadata": {},
   "source": [
    "Run the function to figure out the exact number of days you've lived on Earth!"
   ]
  },
  {
   "cell_type": "code",
   "execution_count": null,
   "metadata": {},
   "outputs": [],
   "source": []
  },
  {
   "cell_type": "markdown",
   "metadata": {},
   "source": [
    "How about how many days you've got till graduation? Or the next election you can vote in?"
   ]
  },
  {
   "cell_type": "code",
   "execution_count": null,
   "metadata": {},
   "outputs": [],
   "source": []
  },
  {
   "cell_type": "markdown",
   "metadata": {},
   "source": [
    "Some of the datasets we'll be working with this year, save time in this way as days elapsed from some starting point. Let's create a function to convert from this format to the datetime format we now know (and hopefully love). \n",
    "\n",
    "In this case, the starting time is January 01, 1980. One value from the dataset is included so you can test out your function. \n",
    "\n",
    "Again,\n",
    "1. **map** out your function\n",
    "1. put in **lots of comments** to explain what you're doing. Somebody who's just reading the code should be able to understand how to use it.\n",
    "1. **test it** out with a value you already know. For example, what's the date 5 days after the starting point?"
   ]
  },
  {
   "cell_type": "code",
   "execution_count": 59,
   "metadata": {},
   "outputs": [
    {
     "data": {
      "text/plain": [
       "datetime.datetime(2017, 1, 16, 0, 59, 59, 999995)"
      ]
     },
     "execution_count": 59,
     "metadata": {},
     "output_type": "execute_result"
    }
   ],
   "source": [
    "#####\n",
    "\n",
    "#map out your function here\n",
    "\n",
    "#####\n",
    "\n",
    "#function\n",
    "\n",
    "t = 13530.0416666666\n",
    "\n",
    "jd_std = dt.datetime(1980,1,1,0,0,0)\n",
    "\n",
    "def julian_to_standard(julian_date):\n",
    "    \n",
    "    '''\n",
    "    Converts from Julian dates (defined as days since 1980-01-01 00:00:00) to \n",
    "    standard dates.\n",
    "    '''\n",
    "    julian_secs = float(julian_date)*24*60*60\n",
    "    std_date = jd_std + dt.timedelta(seconds = julian_secs)\n",
    "    return std_date\n",
    "\n",
    "julian_to_standard(t)"
   ]
  },
  {
   "cell_type": "markdown",
   "metadata": {},
   "source": [
    "Now, we'll apply it to a dataset. So, we'll need to:\n",
    "1. import the 191015_SODAtime.csv file as a Pandas dataframe. It should be in the same folder as this Jupyter notebook.\n",
    "1. apply this function to every entry in the file"
   ]
  },
  {
   "cell_type": "code",
   "execution_count": 70,
   "metadata": {},
   "outputs": [
    {
     "data": {
      "text/plain": [
       "Timestamp('2017-01-16 01:00:00.288000')"
      ]
     },
     "execution_count": 70,
     "metadata": {},
     "output_type": "execute_result"
    }
   ],
   "source": [
    "#####\n",
    "\n",
    "#outline your code\n",
    "\n",
    "#####\n",
    "\n",
    "#import the .csv file\n",
    "\n",
    "#apply your conversion function to this file\n",
    "\n",
    "import pandas as pd\n",
    "data = pd.read_csv('191015_SODAtime.csv')\n",
    "data = data.apply(julian_to_standard, axis = 1)\n",
    "\n",
    "data[0]"
   ]
  },
  {
   "cell_type": "markdown",
   "metadata": {},
   "source": [
    "Great job! You have successfully written up a collection of functions to manipulate time that we will be using frequently throughout this year."
   ]
  }
 ],
 "metadata": {
  "kernelspec": {
   "display_name": "Python 3",
   "language": "python",
   "name": "python3"
  },
  "language_info": {
   "codemirror_mode": {
    "name": "ipython",
    "version": 3
   },
   "file_extension": ".py",
   "mimetype": "text/x-python",
   "name": "python",
   "nbconvert_exporter": "python",
   "pygments_lexer": "ipython3",
   "version": "3.7.3"
  }
 },
 "nbformat": 4,
 "nbformat_minor": 2
}
